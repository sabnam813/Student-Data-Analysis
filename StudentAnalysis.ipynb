{
 "cells": [
  {
   "cell_type": "code",
   "execution_count": 2,
   "id": "5894316b-d8b7-4087-bd68-e6f58aee6fda",
   "metadata": {},
   "outputs": [],
   "source": [
    "import pandas as pd\n",
    "from sklearn.model_selection import train_test_split\n",
    "from sklearn.preprocessing import LabelEncoder, StandardScaler\n",
    "from sklearn.ensemble import RandomForestClassifier\n",
    "from sklearn.pipeline import Pipeline\n",
    "from sklearn.metrics import accuracy_score, classification_report\n",
    "import joblib"
   ]
  },
  {
   "cell_type": "code",
   "execution_count": 3,
   "id": "e8f70ba2-bbc3-48c3-94ce-bcb9337823d0",
   "metadata": {},
   "outputs": [],
   "source": [
    "df = pd.read_csv(\"data/StudentsPerformance.csv\")"
   ]
  },
  {
   "cell_type": "code",
   "execution_count": 4,
   "id": "fe8ed5cf-10be-4c7b-b61e-d89bc9f1b323",
   "metadata": {},
   "outputs": [],
   "source": [
    "df['average'] = df[['math score','reading score','writing score']].mean(axis=1)\n",
    "df['high_performer'] = (df['average'] >= 70).astype(int)"
   ]
  },
  {
   "cell_type": "code",
   "execution_count": 5,
   "id": "ce0af6d2-5e1a-48f5-8f33-f5ff9fb9875a",
   "metadata": {},
   "outputs": [],
   "source": [
    "le_gender = LabelEncoder()\n",
    "le_race = LabelEncoder()\n",
    "le_lunch = LabelEncoder()\n",
    "le_prep = LabelEncoder()\n",
    "\n",
    "df['gender'] = le_gender.fit_transform(df['gender'])\n",
    "df['race/ethnicity'] = le_race.fit_transform(df['race/ethnicity'])\n",
    "df['lunch'] = le_lunch.fit_transform(df['lunch'])\n",
    "df['test preparation course'] = le_prep.fit_transform(df['test preparation course'])\n",
    "\n",
    "X = df[['gender','race/ethnicity','lunch','test preparation course','math score','reading score','writing score']]\n",
    "y = df['high_performer']"
   ]
  },
  {
   "cell_type": "code",
   "execution_count": 6,
   "id": "4e00b008-cedf-406d-91a9-130b51c4ddd1",
   "metadata": {},
   "outputs": [],
   "source": [
    "X_train, X_test, y_train, y_test = train_test_split(X, y, test_size=0.2, random_state=42)"
   ]
  },
  {
   "cell_type": "code",
   "execution_count": 7,
   "id": "553044d1-97c6-4ea7-9f92-55ba168f165e",
   "metadata": {},
   "outputs": [
    {
     "name": "stdout",
     "output_type": "stream",
     "text": [
      "Accuracy: 0.975\n",
      "              precision    recall  f1-score   support\n",
      "\n",
      "           0       0.98      0.97      0.98       110\n",
      "           1       0.97      0.98      0.97        90\n",
      "\n",
      "    accuracy                           0.97       200\n",
      "   macro avg       0.97      0.98      0.97       200\n",
      "weighted avg       0.98      0.97      0.98       200\n",
      "\n"
     ]
    }
   ],
   "source": [
    "pipeline = Pipeline([\n",
    "    ('scaler', StandardScaler()),\n",
    "    ('model', RandomForestClassifier(n_estimators=100, random_state=42))\n",
    "])\n",
    "\n",
    "pipeline.fit(X_train, y_train)\n",
    "y_pred = pipeline.predict(X_test)\n",
    "\n",
    "print(\"Accuracy:\", accuracy_score(y_test, y_pred))\n",
    "print(classification_report(y_test, y_pred))"
   ]
  },
  {
   "cell_type": "code",
   "execution_count": 10,
   "id": "92125694-2adb-4fe0-9f95-32ec8527b418",
   "metadata": {},
   "outputs": [
    {
     "data": {
      "text/plain": [
       "['model/student_model.pkl']"
      ]
     },
     "execution_count": 10,
     "metadata": {},
     "output_type": "execute_result"
    }
   ],
   "source": [
    "import os\n",
    "os.makedirs(\"model\", exist_ok=True)\n",
    "joblib.dump(pipeline, \"model/student_model.pkl\")"
   ]
  },
  {
   "cell_type": "code",
   "execution_count": null,
   "id": "75e21bda-735e-47a8-9998-c7de26c18211",
   "metadata": {},
   "outputs": [],
   "source": []
  }
 ],
 "metadata": {
  "kernelspec": {
   "display_name": "Python 3 (ipykernel)",
   "language": "python",
   "name": "python3"
  },
  "language_info": {
   "codemirror_mode": {
    "name": "ipython",
    "version": 3
   },
   "file_extension": ".py",
   "mimetype": "text/x-python",
   "name": "python",
   "nbconvert_exporter": "python",
   "pygments_lexer": "ipython3",
   "version": "3.11.7"
  }
 },
 "nbformat": 4,
 "nbformat_minor": 5
}
